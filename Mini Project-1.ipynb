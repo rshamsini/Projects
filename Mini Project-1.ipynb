{
 "cells": [
  {
   "cell_type": "raw",
   "metadata": {},
   "source": [
    "ML Mini-Project\n",
    "\n",
    "Objective:\n",
    "To expose the best combination for strategy games available in the appstore in order to get a good user rating (4.0/5.0 and above) \n",
    "\n",
    "Steps:\n",
    "1.Performing analysis of the original data set\n",
    "2.Cleansing the data set by removing games which have zero user ratings\n",
    "3.Classification of data set into five different genres -'Puzzle','Board','Action','Family','Word'\n",
    "4.Dropping less significant Genres-'Family' and 'Word' since they have count of only 378 and 48 \n",
    "5.A Bar-graph representation of the more significant Genres\n",
    "6.Analysing the Genres having higher user ratings\n",
    "7.A brief analyzation on paid vs free games after including In-app purchases in the original price of the game"
   ]
  },
  {
   "cell_type": "code",
   "execution_count": 4,
   "metadata": {},
   "outputs": [
    {
     "name": "stdout",
     "output_type": "stream",
     "text": [
      "The Original Data Set Description\n",
      "\n",
      "               ID  Average User Rating  User Rating Count  Price        Size\n",
      "count       17007                 7561               7561  16983       17006\n",
      "mean   1059613815                    4               3306      0   115706429\n",
      "std     299967589                    0              42322      7   203647677\n",
      "min     284921427                    1                  5      0       51328\n",
      "25%     899654330                    3                 12      0    22950144\n",
      "50%    1112286228                    4                 46      0    56768954\n",
      "75%    1286982837                    4                309      0   133027072\n",
      "max    1475076711                    5            3032734    179 -2147483648\n",
      "Null value Analysis for data cleansing\n",
      "\n",
      "URL                                 0\n",
      "ID                                  0\n",
      "Name                                0\n",
      "Subtitle                        11746\n",
      "Icon URL                            0\n",
      "Average User Rating              9446\n",
      "User Rating Count                9446\n",
      "Price                              24\n",
      "In-app Purchases                 9324\n",
      "Description                         0\n",
      "Developer                           0\n",
      "Age Rating                          0\n",
      "Languages                          60\n",
      "Size                                1\n",
      "Primary Genre                       0\n",
      "Genres                              0\n",
      "Original Release Date               0\n",
      "Current Version Release Date        0\n",
      "dtype: int64\n"
     ]
    }
   ],
   "source": [
    "import pandas as pd\n",
    "app=pd.read_csv(\"Downloads/appstore_games.csv\")\n",
    "print(\"The Original Data Set Description\\n\")\n",
    "print(app.describe().astype(int))   #describing the file(mean,std deviation)\n",
    "print(\"Null value Analysis for data cleansing\\n\")\n",
    "print(app.isnull().sum())                        #counting null values in each column\n"
   ]
  },
  {
   "cell_type": "code",
   "execution_count": 5,
   "metadata": {},
   "outputs": [
    {
     "name": "stderr",
     "output_type": "stream",
     "text": [
      "C:\\Users\\Harshini\\Anaconda3\\lib\\site-packages\\ipykernel_launcher.py:4: SettingWithCopyWarning: \n",
      "A value is trying to be set on a copy of a slice from a DataFrame.\n",
      "Try using .loc[row_indexer,col_indexer] = value instead\n",
      "\n",
      "See the caveats in the documentation: http://pandas.pydata.org/pandas-docs/stable/user_guide/indexing.html#returning-a-view-versus-a-copy\n",
      "  after removing the cwd from sys.path.\n",
      "C:\\Users\\Harshini\\Anaconda3\\lib\\site-packages\\ipykernel_launcher.py:5: SettingWithCopyWarning: \n",
      "A value is trying to be set on a copy of a slice from a DataFrame.\n",
      "Try using .loc[row_indexer,col_indexer] = value instead\n",
      "\n",
      "See the caveats in the documentation: http://pandas.pydata.org/pandas-docs/stable/user_guide/indexing.html#returning-a-view-versus-a-copy\n",
      "  \"\"\"\n",
      "C:\\Users\\Harshini\\Anaconda3\\lib\\site-packages\\ipykernel_launcher.py:10: SettingWithCopyWarning: \n",
      "A value is trying to be set on a copy of a slice from a DataFrame\n",
      "\n",
      "See the caveats in the documentation: http://pandas.pydata.org/pandas-docs/stable/user_guide/indexing.html#returning-a-view-versus-a-copy\n",
      "  # Remove the CWD from sys.path while we load stuff.\n",
      "C:\\Users\\Harshini\\Anaconda3\\lib\\site-packages\\IPython\\core\\interactiveshell.py:3319: SettingWithCopyWarning: \n",
      "A value is trying to be set on a copy of a slice from a DataFrame\n",
      "\n",
      "See the caveats in the documentation: http://pandas.pydata.org/pandas-docs/stable/user_guide/indexing.html#returning-a-view-versus-a-copy\n",
      "  exec(code_obj, self.user_global_ns, self.user_ns)\n",
      "C:\\Users\\Harshini\\Anaconda3\\lib\\site-packages\\ipykernel_launcher.py:11: SettingWithCopyWarning: \n",
      "A value is trying to be set on a copy of a slice from a DataFrame.\n",
      "Try using .loc[row_indexer,col_indexer] = value instead\n",
      "\n",
      "See the caveats in the documentation: http://pandas.pydata.org/pandas-docs/stable/user_guide/indexing.html#returning-a-view-versus-a-copy\n",
      "  # This is added back by InteractiveShellApp.init_path()\n",
      "C:\\Users\\Harshini\\Anaconda3\\lib\\site-packages\\pandas\\core\\frame.py:4117: SettingWithCopyWarning: \n",
      "A value is trying to be set on a copy of a slice from a DataFrame\n",
      "\n",
      "See the caveats in the documentation: http://pandas.pydata.org/pandas-docs/stable/user_guide/indexing.html#returning-a-view-versus-a-copy\n",
      "  errors=errors,\n",
      "C:\\Users\\Harshini\\Anaconda3\\lib\\site-packages\\ipykernel_launcher.py:14: SettingWithCopyWarning: \n",
      "A value is trying to be set on a copy of a slice from a DataFrame.\n",
      "Try using .loc[row_indexer,col_indexer] = value instead\n",
      "\n",
      "See the caveats in the documentation: http://pandas.pydata.org/pandas-docs/stable/user_guide/indexing.html#returning-a-view-versus-a-copy\n",
      "  \n",
      "C:\\Users\\Harshini\\Anaconda3\\lib\\site-packages\\pandas\\core\\indexing.py:494: SettingWithCopyWarning: \n",
      "A value is trying to be set on a copy of a slice from a DataFrame.\n",
      "Try using .loc[row_indexer,col_indexer] = value instead\n",
      "\n",
      "See the caveats in the documentation: http://pandas.pydata.org/pandas-docs/stable/user_guide/indexing.html#returning-a-view-versus-a-copy\n",
      "  self.obj[item] = s\n"
     ]
    },
    {
     "name": "stdout",
     "output_type": "stream",
     "text": [
      "                 ID  Average User Rating  User Rating Count          Size\n",
      "count  7.561000e+03          7561.000000       7.561000e+03  7.561000e+03\n",
      "mean   9.443312e+08             4.060905       3.306531e+03  1.514679e+08\n",
      "std    3.334220e+08             0.751428       4.232256e+04  2.550380e+08\n",
      "min    2.849214e+08             1.000000       5.000000e+00  2.158400e+05\n",
      "25%    6.463627e+08             3.500000       1.200000e+01  3.061862e+07\n",
      "50%    9.801324e+08             4.500000       4.600000e+01  7.964672e+07\n",
      "75%    1.211827e+09             4.500000       3.090000e+02  1.776138e+08\n",
      "max    1.474461e+09             5.000000       3.032734e+06  4.005591e+09\n",
      "Count of Primary Genres: 6543\n",
      "Distribution of Genre 'Puzzle': 1895\n",
      "Distribution of Genre 'Board': 1224\n",
      "Distribution of Genre 'Action': 3424\n",
      "Distribution of Genre 'Family': 378\n",
      "Distribution of Genre 'Word': 48\n",
      "Analysis of Genre 'Puzzle':\n",
      "                ID  Average User Rating  User Rating Count        Size\n",
      "count        1895                 1895               1895        1895\n",
      "mean    926188097                    4               1402    81502911\n",
      "std     326114123                    0              10676   108752837\n",
      "min     284921427                    1                  5      215840\n",
      "25%     648748651                    4                  9    20269735\n",
      "50%     962325879                    4                 25    46461952\n",
      "75%    1166301137                    4                126    96901632\n",
      "max    1473084135                    5             217469  1292742656\n",
      "\n",
      "Analysis of Genre 'Board':\n",
      "                ID  Average User Rating  User Rating Count        Size\n",
      "count        1224                 1224               1224        1224\n",
      "mean    825574070                    3               1675   122146930\n",
      "std     350898236                    0              11419   212104683\n",
      "min     284926400                    1                  5      409570\n",
      "25%     502376986                    3                 12    22603008\n",
      "50%     835537952                    4                 43    50184704\n",
      "75%    1106005382                    4                249   130273792\n",
      "max    1474461379                    5             210705 -2147483648\n",
      "\n",
      "Analysis of Genre 'Action':\n",
      "                ID  Average User Rating  User Rating Count        Size\n",
      "count        3424                 3424               3424        3424\n",
      "mean    983032514                    4               5521   208000744\n",
      "std     328174246                    0              61750   324632496\n",
      "min     292421271                    1                  5      356352\n",
      "25%     695381178                    3                 17    54317312\n",
      "50%    1035495018                    4                 79   125878784\n",
      "75%    1250175561                    4                658   237230080\n",
      "max    1473680543                    5            3032734 -2147483648\n"
     ]
    }
   ],
   "source": [
    "import numpy as np\n",
    "app1=app.dropna(subset=['Average User Rating'])\n",
    "\n",
    "app1['In-app Purchases']=app1['In-app Purchases'].str.replace(',','')\n",
    "app1['In-app Purchases']=app1['In-app Purchases'].fillna(0)\n",
    "for x in list(app1.index.values):\n",
    "    if app1['In-app Purchases'][x]!=0:\n",
    "        mn=str.split(app1['In-app Purchases'][x])\n",
    "        mn=[float(i) for i in mn]\n",
    "        app1['In-app Purchases'][x]=np.mean(mn)\n",
    "app1['Price']=app1['Price']+app1['In-app Purchases']\n",
    "app1.drop(['Description','In-app Purchases'],axis=1,inplace=True)\n",
    "print(app1.describe())\n",
    "app1['Genres']=app1['Genres'].str.replace('Games','').str.replace('Entertainment','').str.replace(',','')\n",
    "\n",
    "#Distinguishing various Genres\n",
    "app1.loc[app1['Genres'].str.contains('Puzzle'),'Genres']='Puzzle'\n",
    "app1.loc[app1['Genres'].str.contains('Board'),'Genres']='Board'\n",
    "app1.loc[app1['Genres'].str.contains('Casual'),'Genres']='Puzzle'\n",
    "app1.loc[app1['Genres'].str.contains('Card'),'Genres']='Board'\n",
    "app1.loc[app1['Genres'].str.contains('Action'),'Genres']='Action'\n",
    "app1.loc[app1['Genres'].str.contains('Simulation'),'Genres']='Action'\n",
    "app1.loc[app1['Genres'].str.contains('Word'),'Genres']='Word'\n",
    "app1.loc[app1['Genres'].str.contains('Role Playing'),'Genres']='Action'\n",
    "app1.loc[app1['Genres'].str.contains('Adventure'),'Genres']='Action'\n",
    "app1.loc[app1['Genres'].str.contains('Education'),'Genres']='Family'\n",
    "app1.loc[app1['Genres'].str.contains('Family'),'Genres']='Family'\n",
    "app1.loc[app1['Genres'].str.contains('Casino'),'Genres']='Family'\n",
    "app1.loc[app1['Genres'].str.contains('Puzzle'),'Primary Genre']='Pri'\n",
    "app1.loc[app1['Genres'].str.contains('Board'),'Primary Genre']='Pri'\n",
    "app1.loc[app1['Genres'].str.contains('Action'),'Primary Genre']='Pri'\n",
    "\n",
    "#count of Primary Genres\n",
    "print(\"Count of Primary Genres:\",(app1['Primary Genre']=='Pri').sum())\n",
    "#Distrbution of primary genres\n",
    "print(\"Distribution of Genre \\'Puzzle\\':\",(app1['Genres']=='Puzzle').sum())\n",
    "print(\"Distribution of Genre \\'Board\\':\",(app1['Genres']=='Board').sum())\n",
    "print(\"Distribution of Genre \\'Action\\':\",(app1['Genres']=='Action').sum())\n",
    "print(\"Distribution of Genre \\'Family\\':\",(app1['Genres']=='Family').sum())\n",
    "print(\"Distribution of Genre \\'Word\\':\",(app1['Genres']=='Word').sum())\n",
    "a=(app1['Genres']=='Family').sum()\n",
    "b=(app1['Genres']=='Word').sum()\n",
    "\n",
    "app2=app1[app1['Genres']=='Puzzle']\n",
    "app3=app1[app1['Genres']=='Board']\n",
    "app4=app1[app1['Genres']=='Action']\n",
    "print(\"Analysis of Genre \\'Puzzle':\\n\",app2.describe().astype(int))\n",
    "print()\n",
    "print(\"Analysis of Genre \\'Board':\\n\",app3.describe().astype(int))\n",
    "print()\n",
    "print(\"Analysis of Genre \\'Action':\\n\",app4.describe().astype(int))"
   ]
  },
  {
   "cell_type": "code",
   "execution_count": 115,
   "metadata": {},
   "outputs": [
    {
     "data": {
      "image/png": "[encoded data removed]",
      "text/plain": [
       "<Figure size 432x288 with 1 Axes>"
      ]
     },
     "metadata": {
      "needs_background": "light"
     },
     "output_type": "display_data"
    }
   ],
   "source": [
    "import matplotlib.pyplot as plt\n",
    "import seaborn as sns\n",
    "%matplotlib inline\n",
    "import warnings\n",
    "warnings.filterwarnings('ignore')\n",
    "#Histogram\n",
    "x=['Puzzle','Board','Action','Family','Word']\n",
    "y=[len(app2),len(app3),len(app4),a,b]\n",
    "vis=sns.barplot(x,y,palette='Accent')\n",
    "vis.set(xlabel='Genre',ylabel='Number of Games')\n",
    "for p in vis.patches:\n",
    "    vis.annotate(\"%.f\" %p.get_height(), (p.get_x() + p.get_width() / 2., p.get_height()),ha='center',va='center',fontsize=12,color='black',xytext=(0,20),textcoords='offset points')\n",
    "\n",
    "#Dropping less significant genres\n",
    "app1=app1[app1['Primary Genre']=='Pri']\n"
   ]
  },
  {
   "cell_type": "markdown",
   "metadata": {},
   "source": [
    "The classification of the games into three major 'significant' Genres has led to the conclusion:\n",
    "The count of \"Action\" games is significantly greater than those belonging to genres \"Puzzle\", \"Board\", \"Family\" and \"Word\""
   ]
  },
  {
   "cell_type": "code",
   "execution_count": 116,
   "metadata": {},
   "outputs": [
    {
     "data": {
      "image/png": "[encoded data removed]",
      "text/plain": [
       "<Figure size 432x288 with 1 Axes>"
      ]
     },
     "metadata": {},
     "output_type": "display_data"
    }
   ],
   "source": [
    "x=['Puzzle','Board','Action']\n",
    "y=[app2['Average User Rating'].mean(),app3['Average User Rating'].mean(),app4['Average User Rating'].mean()]\n",
    "plt.pie(y,labels=x,startangle=90,autopct=lambda p: '{:.2f}%({:.2f})'.format(p,p/100*sum(y)))\n",
    "plt.show()"
   ]
  },
  {
   "cell_type": "raw",
   "metadata": {},
   "source": [
    "From the Pie chart, we conclude that the genre 'Puzzle' is more popular based on User ratings followed closely by 'Action' genre and 'Board' games"
   ]
  },
  {
   "cell_type": "code",
   "execution_count": 117,
   "metadata": {},
   "outputs": [
    {
     "data": {
      "image/png": "[encoded data removed]",
      "text/plain": [
       "<Figure size 432x288 with 1 Axes>"
      ]
     },
     "metadata": {
      "needs_background": "light"
     },
     "output_type": "display_data"
    }
   ],
   "source": [
    "x=['Puzzle','Board','Action']\n",
    "y=[len(app2[app2['Price']==0]),len(app3[app3['Price']==0]),len(app4[app4['Price']==0])]\n",
    "vis=sns.barplot(x,y,palette='Accent')\n",
    "vis.set(xlabel='Genre',ylabel='Number of Free Games')\n",
    "for p in vis.patches:\n",
    "    vis.annotate(\"%.f\" %p.get_height(), (p.get_x() + p.get_width() / 2., p.get_height()),ha='center',va='center',fontsize=12,color='black',xytext=(0,20),textcoords='offset points')\n",
    "\n",
    "\n"
   ]
  },
  {
   "cell_type": "markdown",
   "metadata": {},
   "source": [
    "On Comparing Paid and Free Games, we see that more number of users are towards Paid games than those which are free. We also see that the count of paid 'Action' games is a lot higher that the other games."
   ]
  },
  {
   "cell_type": "code",
   "execution_count": 118,
   "metadata": {},
   "outputs": [
    {
     "data": {
      "image/png": "[encoded data removed]",
      "text/plain": [
       "<Figure size 432x288 with 1 Axes>"
      ]
     },
     "metadata": {
      "needs_background": "light"
     },
     "output_type": "display_data"
    }
   ],
   "source": [
    "x=['Puzzle','Board','Action']\n",
    "y=[len(app2[app2['Price']>0]),len(app3[app3['Price']>0]),len(app4[app4['Price']>0])]\n",
    "vis=sns.barplot(x,y,palette='Accent')\n",
    "vis.set(xlabel='Genre',ylabel='Number of Paid Games')\n",
    "for p in vis.patches:\n",
    "    vis.annotate(\"%.f\" %p.get_height(), (p.get_x() + p.get_width() / 2., p.get_height()),ha='center',va='center',fontsize=12,color='black',xytext=(0,20),textcoords='offset points')\n"
   ]
  },
  {
   "cell_type": "code",
   "execution_count": 119,
   "metadata": {},
   "outputs": [
    {
     "data": {
      "image/png": "[encoded data removed]",
      "text/plain": [
       "<Figure size 1080x576 with 2 Axes>"
      ]
     },
     "metadata": {
      "needs_background": "light"
     },
     "output_type": "display_data"
    }
   ],
   "source": [
    "paid = app1[app1['Price']>0]\n",
    "free = app1[app1['Price']==0]\n",
    "fig, ax = plt.subplots(1, 2, figsize=(15,8))\n",
    "sns.countplot(data=paid, y='Average User Rating', ax=ax[0], palette='plasma')\n",
    "ax[0].set_title('Paid Games')\n",
    "ax[0].set_xlim([0, 1000])\n",
    "\n",
    "sns.countplot(data=free, y='Average User Rating', ax=ax[1], palette='viridis')\n",
    "ax[1].set_title('Free Games')\n",
    "ax[1].set_xlim([0,1000])\n",
    "plt.tight_layout();\n",
    "plt.show()"
   ]
  },
  {
   "cell_type": "markdown",
   "metadata": {},
   "source": [
    "In terms Of User Rating Vs Price, we see that the paid games have a greater welcome among players as about 2700 games have rating between 4 and 5 which is about twice the number of free games with ratings in the range 4-5"
   ]
  },
  {
   "cell_type": "markdown",
   "metadata": {},
   "source": [
    "CONCLUSION:\n",
    "Thus there is a greater scope for Paid, 'Action' genre games mostly of size 100 mega bytes to get a good user rating of 4.0 to 5.0"
   ]
  }
 ],
 "metadata": {
  "kernelspec": {
   "display_name": "Python 3",
   "language": "python",
   "name": "python3"
  },
  "language_info": {
   "codemirror_mode": {
    "name": "ipython",
    "version": 3
   },
   "file_extension": ".py",
   "mimetype": "text/x-python",
   "name": "python",
   "nbconvert_exporter": "python",
   "pygments_lexer": "ipython3",
   "version": "3.7.6"
  }
 },
 "nbformat": 4,
 "nbformat_minor": 2
}
