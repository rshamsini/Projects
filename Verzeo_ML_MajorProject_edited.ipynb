{
  "nbformat": 4,
  "nbformat_minor": 0,
  "metadata": {
    "colab": {
      "name": "Verzeo_ML_MajorProject.ipynb",
      "provenance": [],
      "collapsed_sections": [],
      "include_colab_link": true
    },
    "kernelspec": {
      "display_name": "Python 3",
      "language": "python",
      "name": "python3"
    },
    "language_info": {
      "codemirror_mode": {
        "name": "ipython",
        "version": 3
      },
      "file_extension": ".py",
      "mimetype": "text/x-python",
      "name": "python",
      "nbconvert_exporter": "python",
      "pygments_lexer": "ipython3",
      "version": "3.7.6"
    }
  },
  "cells": [
    {
      "cell_type": "markdown",
      "metadata": {
        "id": "view-in-github",
        "colab_type": "text"
      },
      "source": [
        "<a href=\"https://colab.research.google.com/github/rshamsini/Projects/blob/master/Verzeo_ML_MajorProject_edited.ipynb\" target=\"_parent\"><img src=\"https://colab.research.google.com/assets/colab-badge.svg\" alt=\"Open In Colab\"/></a>"
      ]
    },
    {
      "cell_type": "markdown",
      "metadata": {
        "id": "A5WbnHGrXLcS"
      },
      "source": [
        "# ML MAJOR PROJECT"
      ]
    },
    {
      "cell_type": "markdown",
      "metadata": {
        "id": "8l8I1_vVYWk8"
      },
      "source": [
        "## OBJECTIVE:\n",
        "\n",
        "To predict the cost of used cars\n",
        "\n",
        "## PROCESS:\n",
        "\n",
        "1.Detailed analysis of the data set given.\n",
        "\n",
        "2.To clean the given data set.\n",
        "\n",
        "3.To choose the best attributes to train the data.\n",
        "\n",
        "4.To select the appropriate regression model (Random forest regressor) to train the data.\n",
        "\n",
        "5.Calculating accuracy of the regression model\n",
        "\n",
        "6.Predicting the price of the used cars in the test dataset.\n"
      ]
    },
    {
      "cell_type": "code",
      "metadata": {
        "colab": {
          "base_uri": "https://localhost:8080/"
        },
        "id": "hyYum44wFpX8",
        "outputId": "b9a91512-8498-4b29-f1a5-ca145ab071cf"
      },
      "source": [
        "#Mounting google drive\n",
        "import pandas as pd \n",
        "from google.colab import drive\n",
        "drive.mount('/content/drive')"
      ],
      "execution_count": null,
      "outputs": [
        {
          "output_type": "stream",
          "text": [
            "Mounted at /content/drive\n"
          ],
          "name": "stdout"
        }
      ]
    },
    {
      "cell_type": "code",
      "metadata": {
        "id": "Bdpg94v12ujU"
      },
      "source": [
        "#Reading trained data and test data\n",
        "data=pd.read_excel(\"/content/drive/My Drive/Data_Train (1).xlsx\")\n",
        "datatest=pd.read_excel(\"/content/drive/My Drive/Data_Test (1).xlsx\")"
      ],
      "execution_count": null,
      "outputs": []
    },
    {
      "cell_type": "code",
      "metadata": {
        "colab": {
          "base_uri": "https://localhost:8080/"
        },
        "id": "UpKLZzrW-2Jz",
        "outputId": "49fe1246-8bb1-4bef-fb5b-9ae21c2ad0a9"
      },
      "source": [
        "print(data.head())"
      ],
      "execution_count": null,
      "outputs": [
        {
          "output_type": "stream",
          "text": [
            "                               Name    Location  Year  ...  Seats  New_Price  Price\n",
            "0            Maruti Wagon R LXI CNG      Mumbai  2010  ...    5.0        NaN   1.75\n",
            "1  Hyundai Creta 1.6 CRDi SX Option        Pune  2015  ...    5.0        NaN  12.50\n",
            "2                      Honda Jazz V     Chennai  2011  ...    5.0  8.61 Lakh   4.50\n",
            "3                 Maruti Ertiga VDI     Chennai  2012  ...    7.0        NaN   6.00\n",
            "4   Audi A4 New 2.0 TDI Multitronic  Coimbatore  2013  ...    5.0        NaN  17.74\n",
            "\n",
            "[5 rows x 13 columns]\n"
          ],
          "name": "stdout"
        }
      ]
    },
    {
      "cell_type": "code",
      "metadata": {
        "colab": {
          "base_uri": "https://localhost:8080/"
        },
        "id": "d3tyncJ7I2PM",
        "outputId": "2f48f7a2-7762-4e2c-bde5-0029fe7f781f"
      },
      "source": [
        "#Analysis of null values in the data set\n",
        "data.drop('New_Price',axis=1,inplace=True)\n",
        "datatest.drop('New_Price',axis=1,inplace=True)\n",
        "data.isnull().sum()"
      ],
      "execution_count": null,
      "outputs": [
        {
          "output_type": "execute_result",
          "data": {
            "text/plain": [
              "Name                  0\n",
              "Location              0\n",
              "Year                  0\n",
              "Kilometers_Driven     0\n",
              "Fuel_Type             0\n",
              "Transmission          0\n",
              "Owner_Type            0\n",
              "Mileage               2\n",
              "Engine               36\n",
              "Power                36\n",
              "Seats                42\n",
              "Price                 0\n",
              "dtype: int64"
            ]
          },
          "metadata": {
            "tags": []
          },
          "execution_count": 7
        }
      ]
    },
    {
      "cell_type": "code",
      "metadata": {
        "colab": {
          "base_uri": "https://localhost:8080/",
          "height": 580
        },
        "id": "Uy9zcRb4U2GR",
        "outputId": "1728542a-ab83-41bb-a648-b4e2ebc78e6f"
      },
      "source": [
        "data.head(100)\n"
      ],
      "execution_count": null,
      "outputs": [
        {
          "output_type": "execute_result",
          "data": {
            "text/html": [
              "<div>\n",
              "<style scoped>\n",
              "    .dataframe tbody tr th:only-of-type {\n",
              "        vertical-align: middle;\n",
              "    }\n",
              "\n",
              "    .dataframe tbody tr th {\n",
              "        vertical-align: top;\n",
              "    }\n",
              "\n",
              "    .dataframe thead th {\n",
              "        text-align: right;\n",
              "    }\n",
              "</style>\n",
              "<table border=\"1\" class=\"dataframe\">\n",
              "  <thead>\n",
              "    <tr style=\"text-align: right;\">\n",
              "      <th></th>\n",
              "      <th>Name</th>\n",
              "      <th>Location</th>\n",
              "      <th>Year</th>\n",
              "      <th>Kilometers_Driven</th>\n",
              "      <th>Fuel_Type</th>\n",
              "      <th>Transmission</th>\n",
              "      <th>Owner_Type</th>\n",
              "      <th>Mileage</th>\n",
              "      <th>Engine</th>\n",
              "      <th>Power</th>\n",
              "      <th>Seats</th>\n",
              "      <th>Price</th>\n",
              "    </tr>\n",
              "  </thead>\n",
              "  <tbody>\n",
              "    <tr>\n",
              "      <th>0</th>\n",
              "      <td>Maruti Wagon R LXI CNG</td>\n",
              "      <td>Mumbai</td>\n",
              "      <td>2010</td>\n",
              "      <td>72000</td>\n",
              "      <td>CNG</td>\n",
              "      <td>Manual</td>\n",
              "      <td>First</td>\n",
              "      <td>26.6 km/kg</td>\n",
              "      <td>998 CC</td>\n",
              "      <td>58.16 bhp</td>\n",
              "      <td>5.0</td>\n",
              "      <td>1.75</td>\n",
              "    </tr>\n",
              "    <tr>\n",
              "      <th>1</th>\n",
              "      <td>Hyundai Creta 1.6 CRDi SX Option</td>\n",
              "      <td>Pune</td>\n",
              "      <td>2015</td>\n",
              "      <td>41000</td>\n",
              "      <td>Diesel</td>\n",
              "      <td>Manual</td>\n",
              "      <td>First</td>\n",
              "      <td>19.67 kmpl</td>\n",
              "      <td>1582 CC</td>\n",
              "      <td>126.2 bhp</td>\n",
              "      <td>5.0</td>\n",
              "      <td>12.50</td>\n",
              "    </tr>\n",
              "    <tr>\n",
              "      <th>2</th>\n",
              "      <td>Honda Jazz V</td>\n",
              "      <td>Chennai</td>\n",
              "      <td>2011</td>\n",
              "      <td>46000</td>\n",
              "      <td>Petrol</td>\n",
              "      <td>Manual</td>\n",
              "      <td>First</td>\n",
              "      <td>18.2 kmpl</td>\n",
              "      <td>1199 CC</td>\n",
              "      <td>88.7 bhp</td>\n",
              "      <td>5.0</td>\n",
              "      <td>4.50</td>\n",
              "    </tr>\n",
              "    <tr>\n",
              "      <th>3</th>\n",
              "      <td>Maruti Ertiga VDI</td>\n",
              "      <td>Chennai</td>\n",
              "      <td>2012</td>\n",
              "      <td>87000</td>\n",
              "      <td>Diesel</td>\n",
              "      <td>Manual</td>\n",
              "      <td>First</td>\n",
              "      <td>20.77 kmpl</td>\n",
              "      <td>1248 CC</td>\n",
              "      <td>88.76 bhp</td>\n",
              "      <td>7.0</td>\n",
              "      <td>6.00</td>\n",
              "    </tr>\n",
              "    <tr>\n",
              "      <th>4</th>\n",
              "      <td>Audi A4 New 2.0 TDI Multitronic</td>\n",
              "      <td>Coimbatore</td>\n",
              "      <td>2013</td>\n",
              "      <td>40670</td>\n",
              "      <td>Diesel</td>\n",
              "      <td>Automatic</td>\n",
              "      <td>Second</td>\n",
              "      <td>15.2 kmpl</td>\n",
              "      <td>1968 CC</td>\n",
              "      <td>140.8 bhp</td>\n",
              "      <td>5.0</td>\n",
              "      <td>17.74</td>\n",
              "    </tr>\n",
              "    <tr>\n",
              "      <th>...</th>\n",
              "      <td>...</td>\n",
              "      <td>...</td>\n",
              "      <td>...</td>\n",
              "      <td>...</td>\n",
              "      <td>...</td>\n",
              "      <td>...</td>\n",
              "      <td>...</td>\n",
              "      <td>...</td>\n",
              "      <td>...</td>\n",
              "      <td>...</td>\n",
              "      <td>...</td>\n",
              "      <td>...</td>\n",
              "    </tr>\n",
              "    <tr>\n",
              "      <th>95</th>\n",
              "      <td>Honda Amaze SX i-DTEC</td>\n",
              "      <td>Kolkata</td>\n",
              "      <td>2015</td>\n",
              "      <td>30000</td>\n",
              "      <td>Diesel</td>\n",
              "      <td>Manual</td>\n",
              "      <td>First</td>\n",
              "      <td>25.8 kmpl</td>\n",
              "      <td>1498 CC</td>\n",
              "      <td>98.6 bhp</td>\n",
              "      <td>5.0</td>\n",
              "      <td>3.50</td>\n",
              "    </tr>\n",
              "    <tr>\n",
              "      <th>96</th>\n",
              "      <td>Volkswagen Polo Diesel Highline 1.2L</td>\n",
              "      <td>Kolkata</td>\n",
              "      <td>2013</td>\n",
              "      <td>34212</td>\n",
              "      <td>Diesel</td>\n",
              "      <td>Manual</td>\n",
              "      <td>First</td>\n",
              "      <td>22.07 kmpl</td>\n",
              "      <td>1199 CC</td>\n",
              "      <td>73.9 bhp</td>\n",
              "      <td>5.0</td>\n",
              "      <td>2.79</td>\n",
              "    </tr>\n",
              "    <tr>\n",
              "      <th>97</th>\n",
              "      <td>Hyundai Verna Transform SX VGT CRDi</td>\n",
              "      <td>Ahmedabad</td>\n",
              "      <td>2010</td>\n",
              "      <td>70002</td>\n",
              "      <td>Diesel</td>\n",
              "      <td>Manual</td>\n",
              "      <td>First</td>\n",
              "      <td>16.2 kmpl</td>\n",
              "      <td>1493 CC</td>\n",
              "      <td>110 bhp</td>\n",
              "      <td>5.0</td>\n",
              "      <td>3.45</td>\n",
              "    </tr>\n",
              "    <tr>\n",
              "      <th>98</th>\n",
              "      <td>Maruti Wagon R VXI BS IV</td>\n",
              "      <td>Bangalore</td>\n",
              "      <td>2016</td>\n",
              "      <td>62000</td>\n",
              "      <td>Petrol</td>\n",
              "      <td>Manual</td>\n",
              "      <td>First</td>\n",
              "      <td>18.9 kmpl</td>\n",
              "      <td>998 CC</td>\n",
              "      <td>67.1 bhp</td>\n",
              "      <td>5.0</td>\n",
              "      <td>4.45</td>\n",
              "    </tr>\n",
              "    <tr>\n",
              "      <th>99</th>\n",
              "      <td>Volkswagen Polo Petrol Highline 1.6L</td>\n",
              "      <td>Delhi</td>\n",
              "      <td>2010</td>\n",
              "      <td>62001</td>\n",
              "      <td>Petrol</td>\n",
              "      <td>Manual</td>\n",
              "      <td>First</td>\n",
              "      <td>15.26 kmpl</td>\n",
              "      <td>1598 CC</td>\n",
              "      <td>103.5 bhp</td>\n",
              "      <td>5.0</td>\n",
              "      <td>2.65</td>\n",
              "    </tr>\n",
              "  </tbody>\n",
              "</table>\n",
              "<p>100 rows × 12 columns</p>\n",
              "</div>"
            ],
            "text/plain": [
              "                                    Name    Location  ...  Seats  Price\n",
              "0                 Maruti Wagon R LXI CNG      Mumbai  ...    5.0   1.75\n",
              "1       Hyundai Creta 1.6 CRDi SX Option        Pune  ...    5.0  12.50\n",
              "2                           Honda Jazz V     Chennai  ...    5.0   4.50\n",
              "3                      Maruti Ertiga VDI     Chennai  ...    7.0   6.00\n",
              "4        Audi A4 New 2.0 TDI Multitronic  Coimbatore  ...    5.0  17.74\n",
              "..                                   ...         ...  ...    ...    ...\n",
              "95                 Honda Amaze SX i-DTEC     Kolkata  ...    5.0   3.50\n",
              "96  Volkswagen Polo Diesel Highline 1.2L     Kolkata  ...    5.0   2.79\n",
              "97   Hyundai Verna Transform SX VGT CRDi   Ahmedabad  ...    5.0   3.45\n",
              "98              Maruti Wagon R VXI BS IV   Bangalore  ...    5.0   4.45\n",
              "99  Volkswagen Polo Petrol Highline 1.6L       Delhi  ...    5.0   2.65\n",
              "\n",
              "[100 rows x 12 columns]"
            ]
          },
          "metadata": {
            "tags": []
          },
          "execution_count": 8
        }
      ]
    },
    {
      "cell_type": "code",
      "metadata": {
        "colab": {
          "base_uri": "https://localhost:8080/",
          "height": 168
        },
        "id": "xV-FGPj6VOkM",
        "outputId": "6f06bb61-554b-435c-c222-00bee2dc1396"
      },
      "source": [
        "data.corr()"
      ],
      "execution_count": null,
      "outputs": [
        {
          "output_type": "execute_result",
          "data": {
            "text/html": [
              "<div>\n",
              "<style scoped>\n",
              "    .dataframe tbody tr th:only-of-type {\n",
              "        vertical-align: middle;\n",
              "    }\n",
              "\n",
              "    .dataframe tbody tr th {\n",
              "        vertical-align: top;\n",
              "    }\n",
              "\n",
              "    .dataframe thead th {\n",
              "        text-align: right;\n",
              "    }\n",
              "</style>\n",
              "<table border=\"1\" class=\"dataframe\">\n",
              "  <thead>\n",
              "    <tr style=\"text-align: right;\">\n",
              "      <th></th>\n",
              "      <th>Year</th>\n",
              "      <th>Kilometers_Driven</th>\n",
              "      <th>Seats</th>\n",
              "      <th>Price</th>\n",
              "    </tr>\n",
              "  </thead>\n",
              "  <tbody>\n",
              "    <tr>\n",
              "      <th>Year</th>\n",
              "      <td>1.000000</td>\n",
              "      <td>-0.173048</td>\n",
              "      <td>0.012333</td>\n",
              "      <td>0.305327</td>\n",
              "    </tr>\n",
              "    <tr>\n",
              "      <th>Kilometers_Driven</th>\n",
              "      <td>-0.173048</td>\n",
              "      <td>1.000000</td>\n",
              "      <td>0.083113</td>\n",
              "      <td>-0.011493</td>\n",
              "    </tr>\n",
              "    <tr>\n",
              "      <th>Seats</th>\n",
              "      <td>0.012333</td>\n",
              "      <td>0.083113</td>\n",
              "      <td>1.000000</td>\n",
              "      <td>0.052225</td>\n",
              "    </tr>\n",
              "    <tr>\n",
              "      <th>Price</th>\n",
              "      <td>0.305327</td>\n",
              "      <td>-0.011493</td>\n",
              "      <td>0.052225</td>\n",
              "      <td>1.000000</td>\n",
              "    </tr>\n",
              "  </tbody>\n",
              "</table>\n",
              "</div>"
            ],
            "text/plain": [
              "                       Year  Kilometers_Driven     Seats     Price\n",
              "Year               1.000000          -0.173048  0.012333  0.305327\n",
              "Kilometers_Driven -0.173048           1.000000  0.083113 -0.011493\n",
              "Seats              0.012333           0.083113  1.000000  0.052225\n",
              "Price              0.305327          -0.011493  0.052225  1.000000"
            ]
          },
          "metadata": {
            "tags": []
          },
          "execution_count": 9
        }
      ]
    },
    {
      "cell_type": "code",
      "metadata": {
        "colab": {
          "base_uri": "https://localhost:8080/"
        },
        "id": "IDpMmyVSqiyQ",
        "outputId": "05ecfe24-48b3-4fe8-ca7d-3752e13320aa"
      },
      "source": [
        "import seaborn as sns\n",
        "import matplotlib.pyplot as plt\n",
        "print(data)\n"
      ],
      "execution_count": null,
      "outputs": [
        {
          "output_type": "stream",
          "text": [
            "                                  Name    Location  ...  Seats  Price\n",
            "0               Maruti Wagon R LXI CNG      Mumbai  ...    5.0   1.75\n",
            "1     Hyundai Creta 1.6 CRDi SX Option        Pune  ...    5.0  12.50\n",
            "2                         Honda Jazz V     Chennai  ...    5.0   4.50\n",
            "3                    Maruti Ertiga VDI     Chennai  ...    7.0   6.00\n",
            "4      Audi A4 New 2.0 TDI Multitronic  Coimbatore  ...    5.0  17.74\n",
            "...                                ...         ...  ...    ...    ...\n",
            "6014                  Maruti Swift VDI       Delhi  ...    5.0   4.75\n",
            "6015          Hyundai Xcent 1.1 CRDi S      Jaipur  ...    5.0   4.00\n",
            "6016             Mahindra Xylo D4 BSIV      Jaipur  ...    8.0   2.90\n",
            "6017                Maruti Wagon R VXI     Kolkata  ...    5.0   2.65\n",
            "6018             Chevrolet Beat Diesel   Hyderabad  ...    5.0   2.50\n",
            "\n",
            "[6019 rows x 12 columns]\n"
          ],
          "name": "stdout"
        }
      ]
    },
    {
      "cell_type": "code",
      "metadata": {
        "colab": {
          "base_uri": "https://localhost:8080/"
        },
        "id": "KWL6yUvydWRr",
        "outputId": "3a8221a6-3ffa-4d3a-fb67-714c4afb1cba"
      },
      "source": [
        "data.fillna('null',inplace=True)\n",
        "data['Mileage']=data['Mileage'].astype(str)\n",
        "data['Mileage']=data['Mileage'].map(lambda x: x.replace(' kmpl',''))\n",
        "data['Mileage']=data['Mileage'].map(lambda x: x.replace(' km/kg',''))\n",
        "data['Mileage']=data['Mileage'].map(lambda x: x.replace('null','0'))\n",
        "data['Mileage']=data['Mileage'].astype(float)\n",
        "datatest['Mileage']=datatest['Mileage'].astype(str)\n",
        "datatest['Mileage']=datatest['Mileage'].map(lambda x: x.replace(' kmpl',''))\n",
        "datatest['Mileage']=datatest['Mileage'].map(lambda x: x.replace(' km/kg',''))\n",
        "datatest['Mileage']=datatest['Mileage'].map(lambda x: x.replace('null','0'))\n",
        "datatest['Mileage']=datatest['Mileage'].astype(float)\n",
        "data['Power']=data['Power'].astype(str)\n",
        "data['Power']=data['Power'].map(lambda x: x.replace(' bhp',''))\n",
        "data['Power']=data['Power'].map(lambda x: x.replace('null','0'))\n",
        "data['Power']=data['Power'].astype(float)\n",
        "datatest['Power']=datatest['Power'].astype(str)\n",
        "datatest['Power']=datatest['Power'].map(lambda x: x.replace(' bhp',''))\n",
        "datatest['Power']=datatest['Power'].map(lambda x: x.replace('null','0'))\n",
        "datatest['Power']=datatest['Power'].astype(float)\n",
        "data['Engine']=data['Engine'].astype(str)\n",
        "data['Engine']=data['Engine'].map(lambda x: x.replace(' CC',''))\n",
        "data['Engine']=data['Engine'].map(lambda x: x.replace('null','0'))\n",
        "data['Engine']=data['Engine'].astype(float)\n",
        "datatest['Engine']=datatest['Engine'].astype(str)\n",
        "datatest['Engine']=datatest['Engine'].map(lambda x: x.replace(' CC',''))\n",
        "datatest['Engine']=datatest['Engine'].map(lambda x: x.replace('null','0'))\n",
        "datatest['Engine']=datatest['Engine'].astype(float)\n",
        "print(data)\n",
        "\n",
        "print(data.isnull().sum())"
      ],
      "execution_count": null,
      "outputs": [
        {
          "output_type": "stream",
          "text": [
            "                                  Name    Location  Year  ...   Power Seats  Price\n",
            "0               Maruti Wagon R LXI CNG      Mumbai  2010  ...   58.16     5   1.75\n",
            "1     Hyundai Creta 1.6 CRDi SX Option        Pune  2015  ...  126.20     5  12.50\n",
            "2                         Honda Jazz V     Chennai  2011  ...   88.70     5   4.50\n",
            "3                    Maruti Ertiga VDI     Chennai  2012  ...   88.76     7   6.00\n",
            "4      Audi A4 New 2.0 TDI Multitronic  Coimbatore  2013  ...  140.80     5  17.74\n",
            "...                                ...         ...   ...  ...     ...   ...    ...\n",
            "6014                  Maruti Swift VDI       Delhi  2014  ...   74.00     5   4.75\n",
            "6015          Hyundai Xcent 1.1 CRDi S      Jaipur  2015  ...   71.00     5   4.00\n",
            "6016             Mahindra Xylo D4 BSIV      Jaipur  2012  ...  112.00     8   2.90\n",
            "6017                Maruti Wagon R VXI     Kolkata  2013  ...   67.10     5   2.65\n",
            "6018             Chevrolet Beat Diesel   Hyderabad  2011  ...   57.60     5   2.50\n",
            "\n",
            "[6019 rows x 12 columns]\n",
            "Name                 0\n",
            "Location             0\n",
            "Year                 0\n",
            "Kilometers_Driven    0\n",
            "Fuel_Type            0\n",
            "Transmission         0\n",
            "Owner_Type           0\n",
            "Mileage              0\n",
            "Engine               0\n",
            "Power                0\n",
            "Seats                0\n",
            "Price                0\n",
            "dtype: int64\n"
          ],
          "name": "stdout"
        }
      ]
    },
    {
      "cell_type": "code",
      "metadata": {
        "colab": {
          "base_uri": "https://localhost:8080/",
          "height": 292
        },
        "id": "ImvoKSC_f4Sj",
        "outputId": "60e042f7-8c79-4920-b6bc-b10ff9b858a0"
      },
      "source": [
        "plt.matshow(data.corr())"
      ],
      "execution_count": null,
      "outputs": [
        {
          "output_type": "execute_result",
          "data": {
            "text/plain": [
              "<matplotlib.image.AxesImage at 0x7f07011e5358>"
            ]
          },
          "metadata": {
            "tags": []
          },
          "execution_count": 23
        },
        {
          "output_type": "display_data",
          "data": {
            "image/png": "[encoded data removed]",
            "text/plain": [
              "<Figure size 288x288 with 1 Axes>"
            ]
          },
          "metadata": {
            "tags": [],
            "needs_background": "light"
          }
        }
      ]
    },
    {
      "cell_type": "code",
      "metadata": {
        "colab": {
          "base_uri": "https://localhost:8080/"
        },
        "id": "6z7FY3InoI8b",
        "outputId": "9da600bb-6fb9-4319-a78b-21fb0834e589"
      },
      "source": [
        "print(data['Fuel_Type'].unique())\n",
        "print(data['Location'].unique())\n",
        "print(data['Owner_Type'].unique())"
      ],
      "execution_count": null,
      "outputs": [
        {
          "output_type": "stream",
          "text": [
            "['CNG' 'Diesel' 'Petrol' 'LPG' 'Electric']\n",
            "['Mumbai' 'Pune' 'Chennai' 'Coimbatore' 'Hyderabad' 'Jaipur' 'Kochi'\n",
            " 'Kolkata' 'Delhi' 'Bangalore' 'Ahmedabad']\n",
            "['First' 'Second' 'Fourth & Above' 'Third']\n"
          ],
          "name": "stdout"
        }
      ]
    },
    {
      "cell_type": "code",
      "metadata": {
        "colab": {
          "base_uri": "https://localhost:8080/",
          "height": 1000
        },
        "id": "hdYaQHr_pqEC",
        "outputId": "06269d40-455b-4390-fa5c-83f721a12220"
      },
      "source": [
        "categories = ['Name','Fuel_Type','Location','Owner_Type','Transmission']\n",
        "\n",
        "for i, c in enumerate(categories):\n",
        "    v = data[c].unique()\n",
        "    \n",
        "    g = data.groupby(by=c)[c].count().sort_values(ascending=False)\n",
        "    r = range(min(len(v), 5))\n",
        "\n",
        "    print( g.head())\n",
        "    plt.figure(figsize=(5,3))\n",
        "    plt.bar(r, g.head()) \n",
        "    #plt.xticks(r, v)\n",
        "    plt.xticks(r, g.index)\n",
        "    plt.show()"
      ],
      "execution_count": null,
      "outputs": [
        {
          "output_type": "stream",
          "text": [
            "Name\n",
            "Mahindra XUV500 W8 2WD    49\n",
            "Maruti Swift VDI          45\n",
            "Maruti Swift Dzire VDI    34\n",
            "Honda City 1.5 S MT       34\n",
            "Maruti Swift VDI BSIV     31\n",
            "Name: Name, dtype: int64\n"
          ],
          "name": "stdout"
        },
        {
          "output_type": "display_data",
          "data": {
            "image/png": "[encoded data removed]",
            "text/plain": [
              "<Figure size 360x216 with 1 Axes>"
            ]
          },
          "metadata": {
            "tags": [],
            "needs_background": "light"
          }
        },
        {
          "output_type": "stream",
          "text": [
            "Fuel_Type\n",
            "Diesel    3200\n",
            "Petrol    2742\n",
            "CNG         56\n",
            "Name: Fuel_Type, dtype: int64\n"
          ],
          "name": "stdout"
        },
        {
          "output_type": "display_data",
          "data": {
            "image/png": "[encoded data removed]",
            "text/plain": [
              "<Figure size 360x216 with 1 Axes>"
            ]
          },
          "metadata": {
            "tags": [],
            "needs_background": "light"
          }
        },
        {
          "output_type": "stream",
          "text": [
            "Location\n",
            "Mumbai        786\n",
            "Hyderabad     736\n",
            "Kochi         651\n",
            "Coimbatore    635\n",
            "Pune          619\n",
            "Name: Location, dtype: int64\n"
          ],
          "name": "stdout"
        },
        {
          "output_type": "display_data",
          "data": {
            "image/png": "[encoded data removed]",
            "text/plain": [
              "<Figure size 360x216 with 1 Axes>"
            ]
          },
          "metadata": {
            "tags": [],
            "needs_background": "light"
          }
        },
        {
          "output_type": "stream",
          "text": [
            "Owner_Type\n",
            "First     4919\n",
            "Second     966\n",
            "Third      113\n",
            "Name: Owner_Type, dtype: int64\n"
          ],
          "name": "stdout"
        },
        {
          "output_type": "display_data",
          "data": {
            "image/png": "[encoded data removed]",
            "text/plain": [
              "<Figure size 360x216 with 1 Axes>"
            ]
          },
          "metadata": {
            "tags": [],
            "needs_background": "light"
          }
        },
        {
          "output_type": "stream",
          "text": [
            "Transmission\n",
            "Manual       4281\n",
            "Automatic    1717\n",
            "Name: Transmission, dtype: int64\n"
          ],
          "name": "stdout"
        },
        {
          "output_type": "display_data",
          "data": {
            "image/png": "[encoded data removed]",
            "text/plain": [
              "<Figure size 360x216 with 1 Axes>"
            ]
          },
          "metadata": {
            "tags": [],
            "needs_background": "light"
          }
        }
      ]
    },
    {
      "cell_type": "code",
      "metadata": {
        "id": "AWR5MPELrymj"
      },
      "source": [
        "data.drop(data.loc[data['Owner_Type']=='Fourth & Above'].index, inplace=True)\n",
        "data.drop(data.loc[data['Fuel_Type']=='LPG'].index, inplace=True)\n",
        "data.drop(data.loc[data['Fuel_Type']=='Electric'].index, inplace=True)"
      ],
      "execution_count": null,
      "outputs": []
    },
    {
      "cell_type": "code",
      "metadata": {
        "colab": {
          "base_uri": "https://localhost:8080/"
        },
        "id": "64Sd1FvNw-mC",
        "outputId": "30f8c76d-0f99-4a15-d88f-513c599193d8"
      },
      "source": [
        "y=data['Price']\n",
        "x=data.drop(['Price','Location','Fuel_Type','Owner_Type','Name','Transmission'],axis=1,inplace=False)\n",
        "x.replace('null',0,inplace=True)\n",
        "\n",
        "\n",
        "print(x.head(10))\n",
        "print(y.head(10))"
      ],
      "execution_count": null,
      "outputs": [
        {
          "output_type": "stream",
          "text": [
            "    Year  Kilometers_Driven  Mileage  Engine   Power  Seats\n",
            "0   2010              72000    26.60   998.0   58.16    5.0\n",
            "1   2015              41000    19.67  1582.0  126.20    5.0\n",
            "2   2011              46000    18.20  1199.0   88.70    5.0\n",
            "3   2012              87000    20.77  1248.0   88.76    7.0\n",
            "4   2013              40670    15.20  1968.0  140.80    5.0\n",
            "6   2013              86999    23.08  1461.0   63.10    5.0\n",
            "7   2016              36000    11.36  2755.0  171.50    8.0\n",
            "8   2013              64430    20.54  1598.0  103.60    5.0\n",
            "9   2012              65932    22.30  1248.0   74.00    5.0\n",
            "10  2018              25692    21.56  1462.0  103.25    5.0\n",
            "0      1.75\n",
            "1     12.50\n",
            "2      4.50\n",
            "3      6.00\n",
            "4     17.74\n",
            "6      3.50\n",
            "7     17.50\n",
            "8      5.20\n",
            "9      1.95\n",
            "10     9.95\n",
            "Name: Price, dtype: float64\n"
          ],
          "name": "stdout"
        }
      ]
    },
    {
      "cell_type": "code",
      "metadata": {
        "colab": {
          "base_uri": "https://localhost:8080/"
        },
        "id": "qNDCeXZl2XAj",
        "outputId": "276412b8-b126-40a3-a99b-9448bc8ccf73"
      },
      "source": [
        "from sklearn.model_selection import cross_val_score, train_test_split\n",
        "\n",
        "X_train, X_val, y_train, y_val = train_test_split(x, y, test_size=0.33, random_state = 3)\n",
        "print(X_train.shape, X_val.shape, y_train.shape, y_val.shape)"
      ],
      "execution_count": null,
      "outputs": [
        {
          "output_type": "stream",
          "text": [
            "(4018, 6) (1980, 6) (4018,) (1980,)\n"
          ],
          "name": "stdout"
        }
      ]
    },
    {
      "cell_type": "code",
      "metadata": {
        "colab": {
          "base_uri": "https://localhost:8080/"
        },
        "id": "IFhIVCU4xvhl",
        "outputId": "156f3c75-5375-49da-ccd1-2863d0c5e7fd"
      },
      "source": [
        "from sklearn.ensemble import RandomForestRegressor\n",
        "from sklearn.model_selection import GridSearchCV\n",
        "\n",
        "rf = RandomForestRegressor()\n",
        "param_grid = { \"criterion\" : [\"mse\"]\n",
        "              , \"min_samples_leaf\" : [3]\n",
        "              , \"min_samples_split\" : [3]\n",
        "              , \"max_depth\": [10]\n",
        "              , \"n_estimators\": [500]}\n",
        "\n",
        "gs = GridSearchCV(estimator=rf, param_grid=param_grid, cv=2, n_jobs=-1, verbose=1)\n",
        "gs = gs.fit(X_train, y_train)"
      ],
      "execution_count": null,
      "outputs": [
        {
          "output_type": "stream",
          "text": [
            "Fitting 2 folds for each of 1 candidates, totalling 2 fits\n"
          ],
          "name": "stdout"
        },
        {
          "output_type": "stream",
          "text": [
            "[Parallel(n_jobs=-1)]: Using backend LokyBackend with 2 concurrent workers.\n",
            "[Parallel(n_jobs=-1)]: Done   2 out of   2 | elapsed:    8.4s remaining:    0.0s\n",
            "[Parallel(n_jobs=-1)]: Done   2 out of   2 | elapsed:    8.4s finished\n"
          ],
          "name": "stderr"
        }
      ]
    },
    {
      "cell_type": "code",
      "metadata": {
        "colab": {
          "base_uri": "https://localhost:8080/"
        },
        "id": "ho1_jTRY1I2d",
        "outputId": "271673a8-30c1-4426-f96b-b721a10267aa"
      },
      "source": [
        "print(gs.best_score_)\n",
        "print(gs.best_params_)"
      ],
      "execution_count": null,
      "outputs": [
        {
          "output_type": "stream",
          "text": [
            "0.8274797549083662\n",
            "{'criterion': 'mse', 'max_depth': 10, 'min_samples_leaf': 3, 'min_samples_split': 3, 'n_estimators': 1000}\n"
          ],
          "name": "stdout"
        }
      ]
    },
    {
      "cell_type": "code",
      "metadata": {
        "colab": {
          "base_uri": "https://localhost:8080/"
        },
        "id": "APWpVHch1ca2",
        "outputId": "a0c50834-c4c3-415e-fdc2-a2a798d44742"
      },
      "source": [
        "bp = gs.best_params_\n",
        "forest = RandomForestRegressor(criterion=bp['criterion'],\n",
        "                              min_samples_leaf=bp['min_samples_leaf'],\n",
        "                              min_samples_split=bp['min_samples_split'],\n",
        "                              max_depth=bp['max_depth'],\n",
        "                              n_estimators=bp['n_estimators'])\n",
        "forest.fit(X_train, y_train)\n",
        "# Explained variance score: 1 is perfect prediction\n",
        "print('Score: %.2f' % forest.score(X_val, y_val))"
      ],
      "execution_count": null,
      "outputs": [
        {
          "output_type": "stream",
          "text": [
            "Score: 0.90\n"
          ],
          "name": "stdout"
        }
      ]
    },
    {
      "cell_type": "code",
      "metadata": {
        "colab": {
          "base_uri": "https://localhost:8080/"
        },
        "id": "ObkxlW4C3O89",
        "outputId": "ca2f1488-26f7-4d41-b69e-8205085349c2"
      },
      "source": [
        "x_test=data.drop(['Price','Location','Fuel_Type','Owner_Type','Name','Transmission'],axis=1,inplace=False)\n",
        "x_test.replace('null',0,inplace=True)\n",
        "y=forest.predict(x_test)\n",
        "print(y)"
      ],
      "execution_count": null,
      "outputs": [
        {
          "output_type": "stream",
          "text": [
            "[ 1.9467863  11.76333828  3.26958753 ...  5.13185994  2.90909303\n",
            "  2.17753269]\n"
          ],
          "name": "stdout"
        }
      ]
    },
    {
      "cell_type": "markdown",
      "metadata": {
        "id": "98yfwjnopBq8"
      },
      "source": [
        "CONCLUSION:\n",
        "\n",
        "Thus the model has been trained and the cost of the used cars are predicted successfully as shown above."
      ]
    }
  ]
}